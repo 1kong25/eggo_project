{
 "cells": [
  {
   "cell_type": "code",
   "execution_count": 1,
   "id": "1bd53825",
   "metadata": {},
   "outputs": [],
   "source": [
    "# readImage() 서버로 이미지 받아오기\n",
    "  \n",
    "def sendInfo():\n",
    "    cursor = data_db.cursor()\n",
    "    sql = 'INSERT INTO gojiseo(date, electUse, waterUse, electPrice, waterPrice, publicPrice, totalPrice) values(date_this, elec_use, water_use, elec_price, water_price, public_price, total_price'\n",
    "    \n",
    "def pieInfo():\n",
    "    cursor = data_db.cursor()\n",
    "    sql = 'INSERT INTO pieData(eletPrice, waterPrice, etcIndividualPrice, publicPrice, total_price) values(elec_price, wat_price, etc_indivi_price, public_price, total_price)'\n",
    "    \n",
    "def readUserData():\n",
    "    cursor = data_db.cursor()\n",
    "    sql = 'SELECT electPrice, waterPrice, totalPrice FROM userData'\n",
    "\n",
    "def sendUserPredict():\n",
    "    cursor = data_db.cursor()\n",
    "    sql = 'INSERT INTO userPredict(total_predict, rateOfChange) values(user_data_predict[0], user_data_predict[1])'\n",
    "    \n",
    "    \n",
    "# readDanjiImform() 지역코드, 아파트이름 받아오기\n",
    "# api는 시간 많이 걸리니까 메시지 출력하기 ('정보를 가져오고 있습니다.')\n",
    "\n",
    "def sendDanjiComparison():\n",
    "    cursor = data_db.cursor()\n",
    "    sql = 'INSERT INTO danjiUserPredict(date, danjiPrice, userPredict) values(danji_predict(sidoCode, aptName)[0],danji_predict(sidoCode, aptName)[1],danji_predict(sidoCode, aptName)[2])'"
   ]
  }
 ],
 "metadata": {
  "kernelspec": {
   "display_name": "Python 3 (ipykernel)",
   "language": "python",
   "name": "python3"
  },
  "language_info": {
   "codemirror_mode": {
    "name": "ipython",
    "version": 3
   },
   "file_extension": ".py",
   "mimetype": "text/x-python",
   "name": "python",
   "nbconvert_exporter": "python",
   "pygments_lexer": "ipython3",
   "version": "3.7.13"
  }
 },
 "nbformat": 4,
 "nbformat_minor": 5
}
