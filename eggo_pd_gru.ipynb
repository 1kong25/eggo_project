{
 "cells": [
  {
   "cell_type": "code",
   "execution_count": 1,
   "id": "f2bbadee",
   "metadata": {},
   "outputs": [],
   "source": [
    "import pymysql\n",
    "\n",
    "import pandas as pd\n",
    "import logging\n",
    "import warnings\n",
    "warnings.filterwarnings(\"ignore\")\n",
    "\n",
    "import os\n",
    "import sys\n",
    "from glob import glob\n",
    "\n",
    "from matplotlib import pyplot as plt\n",
    "import seaborn as sns\n",
    "import keras\n",
    "from keras.models import Sequential\n",
    "from keras.layers import GRU, LSTM, Dropout, Dense\n",
    "from keras.callbacks import EarlyStopping, ModelCheckpoint\n",
    "\n",
    "import tensorflow as tf\n",
    "\n",
    "import numpy as np\n",
    "np.random.seed(42)\n",
    "\n",
    "from datetime import datetime, timedelta\n",
    "import pickle\n",
    "\n",
    "def mape_not_zero(y_true, y_pred):\n",
    "    mape = 0\n",
    "    for t, p in zip(y_true, y_pred):\n",
    "        if t != 0:\n",
    "            mape += np.abs((t - p) / t)\n",
    "        elif p != 0:\n",
    "            mape += np.abs((t - p) / p)\n",
    "\n",
    "    mape /= len(y_true)\n",
    "    return np.mean(mape) * 100\n",
    "\n",
    "def rmse(y_true, y_pred):\n",
    "    mse = (np.square(y_true - y_pred)).mean(axis=0)\n",
    "    return np.sqrt(mse) "
   ]
  },
  {
   "cell_type": "code",
   "execution_count": 2,
   "id": "b6815ed7",
   "metadata": {
    "scrolled": true
   },
   "outputs": [],
   "source": [
    "# from sklearn.preprocessing import MinMaxScaler\n",
    "\n",
    "# scaler=MinMaxScaler()\n",
    "# df = pd.read_csv(\"/Users/kjh001/z_eggo/weather.csv\", encoding='cp949')\n",
    "# scale_cols=['temp','humi','wind','vol']\n",
    "# df_scaled_temp=scaler.fit_transform(df['temp'])\n",
    "# df_scaled_humi=scaler.fit_transform(df['humi'])\n",
    "# df_scaled_wind=scaler.fit_transform(df['wind'])\n",
    "# df_scaled_vol=scaler.fit_transform(df['vol'])\n",
    "\n",
    "# df_scaled=pd.DataFrame(df_scaled_temp,df_scaled_humi,df_scaled_wind,df_scaled_vol)\n",
    "# df_scaled.columns=scale_cols\n",
    "# # print(df_scaled)\n"
   ]
  },
  {
   "cell_type": "code",
   "execution_count": 3,
   "id": "9dc49c86",
   "metadata": {},
   "outputs": [
    {
     "name": "stdout",
     "output_type": "stream",
     "text": [
      "          temp    humi      wind       vol\n",
      "0     0.200000  0.5625  0.289941  0.243946\n",
      "1     0.200000  0.5625  0.289941  0.244930\n",
      "2     0.200000  0.5625  0.289941  0.251231\n",
      "3     0.200000  0.5625  0.289941  0.244733\n",
      "4     0.155556  0.6875  0.106509  0.240992\n",
      "...        ...     ...       ...       ...\n",
      "8755  0.177778  0.5625  0.195266  0.011223\n",
      "8756  0.177778  0.5625  0.195266  0.012404\n",
      "8757  0.177778  0.5625  0.195266  0.011223\n",
      "8758  0.155556  0.6875  0.153846  0.011026\n",
      "8759  0.155556  0.6875  0.153846  0.010238\n",
      "\n",
      "[8760 rows x 4 columns]\n"
     ]
    }
   ],
   "source": [
    "from sklearn.preprocessing import MinMaxScaler\n",
    "\n",
    "scaler=MinMaxScaler()\n",
    "df = pd.read_csv(\"/Users/kjh001/z_eggo/weather.csv\", encoding='cp949')\n",
    "scale_cols=['temp','humi','wind','vol']\n",
    "df_scaled=scaler.fit_transform(df[scale_cols])\n",
    "\n",
    "\n",
    "df_scaled=pd.DataFrame(df_scaled)\n",
    "df_scaled.columns=scale_cols\n",
    "print(df_scaled)\n"
   ]
  },
  {
   "cell_type": "code",
   "execution_count": 4,
   "id": "6c385b61",
   "metadata": {},
   "outputs": [],
   "source": [
    "train=df_scaled[:7008]\n",
    "test=df_scaled[7008:]"
   ]
  },
  {
   "cell_type": "code",
   "execution_count": 5,
   "id": "b44418df",
   "metadata": {},
   "outputs": [],
   "source": [
    "def make_dataset(data,label,size=2):\n",
    "    feature_list=[]\n",
    "    label_list=[]\n",
    "    for i in range(len(data)-size):\n",
    "        feature_list.append(np.array(data.iloc[i:i+size]))\n",
    "        label_list.append(np.array(label.iloc[i+size]))\n",
    "    return np.array(feature_list),np.array(label_list)"
   ]
  },
  {
   "cell_type": "code",
   "execution_count": 6,
   "id": "39af29f9",
   "metadata": {},
   "outputs": [
    {
     "name": "stdout",
     "output_type": "stream",
     "text": [
      "(5604, 2, 3) (1402, 2, 3)\n",
      "(1750, 2, 3) (1750, 1)\n"
     ]
    }
   ],
   "source": [
    "feature_cols=['temp','humi','wind']\n",
    "label_cols=['vol']\n",
    "\n",
    "train_feature = train[feature_cols]\n",
    "train_label = train[label_cols]\n",
    "test_feature = test[feature_cols]\n",
    "test_label = test[label_cols]\n",
    "\n",
    "train_feature, train_label = make_dataset(train_feature,train_label,2)\n",
    "\n",
    "from sklearn.model_selection import train_test_split\n",
    "\n",
    "x_train,x_valid,y_train,y_valid=train_test_split(train_feature,train_label,test_size=0.2)\n",
    "print(x_train.shape, x_valid.shape)\n",
    "\n",
    "test_feature, test_label = make_dataset(test_feature,test_label,2)\n",
    "print(test_feature.shape, test_label.shape)"
   ]
  },
  {
   "cell_type": "code",
   "execution_count": 7,
   "id": "74d4915e",
   "metadata": {},
   "outputs": [],
   "source": [
    "# model=Sequential()\n",
    "# model.add(LSTM(32,\n",
    "#                input_shape=(train_feature.shape[1],train_feature.shape[2]),\n",
    "#                activation='relu',return_sequences=False))\n",
    "# model.add(Dense(1))\n",
    "# model.summary()"
   ]
  },
  {
   "cell_type": "code",
   "execution_count": 8,
   "id": "0f4a96a2",
   "metadata": {},
   "outputs": [
    {
     "name": "stdout",
     "output_type": "stream",
     "text": [
      "Metal device set to: Apple M1\n",
      "WARNING:tensorflow:Layer gru will not use cuDNN kernels since it doesn't meet the criteria. It will use a generic GPU kernel as fallback when running on GPU.\n"
     ]
    },
    {
     "name": "stderr",
     "output_type": "stream",
     "text": [
      "2022-05-25 00:17:42.248103: I tensorflow/core/common_runtime/pluggable_device/pluggable_device_factory.cc:305] Could not identify NUMA node of platform GPU ID 0, defaulting to 0. Your kernel may not have been built with NUMA support.\n",
      "2022-05-25 00:17:42.248335: I tensorflow/core/common_runtime/pluggable_device/pluggable_device_factory.cc:271] Created TensorFlow device (/job:localhost/replica:0/task:0/device:GPU:0 with 0 MB memory) -> physical PluggableDevice (device: 0, name: METAL, pci bus id: <undefined>)\n"
     ]
    },
    {
     "name": "stdout",
     "output_type": "stream",
     "text": [
      "WARNING:tensorflow:Layer gru_1 will not use cuDNN kernels since it doesn't meet the criteria. It will use a generic GPU kernel as fallback when running on GPU.\n",
      "Model: \"sequential\"\n",
      "_________________________________________________________________\n",
      " Layer (type)                Output Shape              Param #   \n",
      "=================================================================\n",
      " gru (GRU)                   (1, 2, 32)                3552      \n",
      "                                                                 \n",
      " gru_1 (GRU)                 (1, 16)                   2400      \n",
      "                                                                 \n",
      " dense (Dense)               (1, 1)                    17        \n",
      "                                                                 \n",
      "=================================================================\n",
      "Total params: 5,969\n",
      "Trainable params: 5,969\n",
      "Non-trainable params: 0\n",
      "_________________________________________________________________\n"
     ]
    }
   ],
   "source": [
    "model=Sequential()\n",
    "model.add(GRU(32, batch_input_shape=(1, 2, 3),\n",
    "              stateful=True, return_sequences=True,\n",
    "              dropout=.1, recurrent_dropout=.2))  \n",
    "model.add(GRU(16, stateful=True,\n",
    "              dropout=.2, recurrent_dropout=.5))  \n",
    "model.add(Dense(1))\n",
    "model.summary()"
   ]
  },
  {
   "cell_type": "code",
   "execution_count": null,
   "id": "a35aa2a1",
   "metadata": {
    "scrolled": true
   },
   "outputs": [
    {
     "name": "stdout",
     "output_type": "stream",
     "text": [
      "Epoch 1/100\n"
     ]
    },
    {
     "name": "stderr",
     "output_type": "stream",
     "text": [
      "2022-05-25 00:17:42.843158: W tensorflow/core/platform/profile_utils/cpu_utils.cc:128] Failed to get CPU frequency: 0 Hz\n",
      "2022-05-25 00:17:46.466421: I tensorflow/core/grappler/optimizers/custom_graph_optimizer_registry.cc:113] Plugin optimizer for device_type GPU is enabled.\n"
     ]
    },
    {
     "name": "stdout",
     "output_type": "stream",
     "text": [
      "5604/5604 [==============================] - ETA: 0s - loss: 0.0058"
     ]
    },
    {
     "name": "stderr",
     "output_type": "stream",
     "text": [
      "2022-05-25 00:27:14.595225: I tensorflow/core/grappler/optimizers/custom_graph_optimizer_registry.cc:113] Plugin optimizer for device_type GPU is enabled.\n"
     ]
    },
    {
     "name": "stdout",
     "output_type": "stream",
     "text": [
      "5604/5604 [==============================] - 611s 108ms/step - loss: 0.0058 - val_loss: 0.0642\n",
      "Epoch 2/100\n",
      "5604/5604 [==============================] - 716s 128ms/step - loss: 0.0050 - val_loss: 0.0553\n",
      "Epoch 3/100\n",
      "5604/5604 [==============================] - 692s 123ms/step - loss: 0.0048 - val_loss: 0.0397\n",
      "Epoch 4/100\n",
      "5604/5604 [==============================] - 657s 117ms/step - loss: 0.0048 - val_loss: 0.0178\n",
      "Epoch 5/100\n",
      "5604/5604 [==============================] - 537s 96ms/step - loss: 0.0047 - val_loss: 0.0121\n",
      "Epoch 6/100\n",
      "3025/5604 [===============>..............] - ETA: 3:55 - loss: 0.0048"
     ]
    }
   ],
   "source": [
    "model.compile(loss='mse',optimizer='adam')\n",
    "early_stop=EarlyStopping(monitor='val_loss',patience=10,verbose=1)\n",
    "history=model.fit(x_train,y_train,epochs=100,\n",
    "                  batch_size=1, verbose=1,\n",
    "                  validation_data=(x_valid,y_valid),\n",
    "                  callbacks=[early_stop])"
   ]
  },
  {
   "cell_type": "code",
   "execution_count": null,
   "id": "4811f38c",
   "metadata": {},
   "outputs": [],
   "source": [
    "testmse = model.evaluate(test_feature, test_label, batch_size=1)\n",
    "testmse"
   ]
  },
  {
   "cell_type": "code",
   "execution_count": null,
   "id": "b6e92fb3",
   "metadata": {
    "scrolled": true
   },
   "outputs": [],
   "source": [
    "pred=model.predict(test_feature,batch_size=1)"
   ]
  },
  {
   "cell_type": "code",
   "execution_count": null,
   "id": "c50379ec",
   "metadata": {},
   "outputs": [],
   "source": [
    "pred"
   ]
  },
  {
   "cell_type": "code",
   "execution_count": null,
   "id": "699a828d",
   "metadata": {},
   "outputs": [],
   "source": [
    "plt.figure(figsize=(12,9))\n",
    "plt.plot(test_label,label='actual')\n",
    "plt.plot(pred,label='prediction')\n",
    "plt.legend()\n",
    "plt.show()"
   ]
  }
 ],
 "metadata": {
  "kernelspec": {
   "display_name": "Python 3 (ipykernel)",
   "language": "python",
   "name": "python3"
  },
  "language_info": {
   "codemirror_mode": {
    "name": "ipython",
    "version": 3
   },
   "file_extension": ".py",
   "mimetype": "text/x-python",
   "name": "python",
   "nbconvert_exporter": "python",
   "pygments_lexer": "ipython3",
   "version": "3.8.13"
  }
 },
 "nbformat": 4,
 "nbformat_minor": 5
}
