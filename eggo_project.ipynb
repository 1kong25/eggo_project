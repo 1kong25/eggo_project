{
 "cells": [
  {
   "cell_type": "code",
   "execution_count": 1,
   "id": "8b46343a",
   "metadata": {},
   "outputs": [],
   "source": [
    "### 주피터노트북 이미지 확인용 함수\n",
    "\n",
    "def plt_imshow(title='image', img=None, figsize=(8 ,5)):\n",
    "    plt.figure(figsize=figsize)\n",
    " \n",
    "    if type(img) == list:\n",
    "        if type(title) == list:\n",
    "            titles = title\n",
    "        else:\n",
    "            titles = []\n",
    " \n",
    "            for i in range(len(img)):\n",
    "                titles.append(title)\n",
    " \n",
    "        for i in range(len(img)):\n",
    "            if len(img[i].shape) <= 2:\n",
    "                rgbImg = cv2.cvtColor(img[i], cv2.COLOR_GRAY2RGB)\n",
    "            else:\n",
    "                rgbImg = cv2.cvtColor(img[i], cv2.COLOR_BGR2RGB)\n",
    " \n",
    "            plt.subplot(1, len(img), i + 1), plt.imshow(rgbImg)\n",
    "            plt.title(titles[i])\n",
    "            plt.xticks([]), plt.yticks([])\n",
    " \n",
    "        plt.show()\n",
    "    else:\n",
    "        if len(img.shape) < 3:\n",
    "            rgbImg = cv2.cvtColor(img, cv2.COLOR_GRAY2RGB)\n",
    "        else:\n",
    "            rgbImg = cv2.cvtColor(img, cv2.COLOR_BGR2RGB)\n",
    " \n",
    "        plt.imshow(rgbImg)\n",
    "        plt.title(title)\n",
    "        plt.xticks([]), plt.yticks([])\n",
    "        plt.show()"
   ]
  },
  {
   "cell_type": "code",
   "execution_count": 2,
   "id": "eaaeb727",
   "metadata": {},
   "outputs": [
    {
     "name": "stdout",
     "output_type": "stream",
     "text": [
      "(1336, 916, 3)\n"
     ]
    }
   ],
   "source": [
    "import pytesseract\n",
    "import numpy as np\n",
    "import cv2\n",
    "import matplotlib.pyplot as plt\n",
    "import imutils\n",
    "from imutils.perspective import four_point_transform\n",
    "from imutils.contours import sort_contours\n",
    "\n",
    "pytesseract.pytesseract.tesseract_cmd = r'/opt/homebrew/bin/tesseract'\n",
    "config = ('-l kor+eng --oem 3 --psm 4') \n",
    "test_img=\"/Users/kjh001/Desktop/study/ai_study/eggo_test.png\"\n",
    "\n",
    "img=cv2.imread(test_img)\n",
    "# cv2.imshow(\"ori\",img) #이미지 띄우기\n",
    "\n",
    "def gray_scale(image):\n",
    "    # img_gray=cv2.cvtColor(img, cv2.COLOR_BAYER_BG2GRAY) // 왜 오류나는지 모르겠음\n",
    "    return cv2.cvtColor(image, cv2.COLOR_BGR2GRAY)\n",
    "\n",
    "def thresholding(image): # 이미지 임계처리 (이진화)\n",
    "    # threshold(src,thresh,maxval,type) //thresh:임계값, maxval:임계값을 넘었을 때 적용할 value, type:thresholding type\n",
    "    # thresholding type: cv2.THRESH_BINARY/cv2.THRESH_BINARY_INV/cv2.THRESH_TRUN/,cv2.THRESH_TOZERO/cv2.THRESH_TOZERO_INV\n",
    "    result=cv2.threshold(gray, 0, 255, cv2.THRESH_BINARY | cv2.THRESH_OTSU)[1]\n",
    "    return result\n",
    "\n",
    "def remove_noise(image): # 노이즈제거 (커널 사이즈는 홀수로)\n",
    "    return cv2.medianBlur(image,5)\n",
    "\n",
    "# Erode - Dilate = Opening 연산: 주로 작은 노이즈 제거\n",
    "# Dilate - Erode = Closing 연산: 한 객체 추출했을 때 두 개 이상의 작은 부분으로 나올 경우 큰 객체로 합칠 때 사용\n",
    "def dilate(image): # 필터 내부의 가장 밝은(높은) 값으로 변환(or)\n",
    "    kernel= np.ones((5,5),np.uint8)\n",
    "    return cv2.dilate(image,kernel, iterations=1)\n",
    "\n",
    "def erode(image): # 필터 내부의 가장 낮은(어두운) 값으로 변환(and)\n",
    "    kernel = np.ones((5,5),np.uint8)\n",
    "    return cv2.erode(image, kernel, iterations=1)\n",
    "\n",
    "# morphologyEx: opening, closing 수행 함수\n",
    "def opening(image):\n",
    "    kernel = np.ones((5,5),np.uint8)\n",
    "    return cv2.morphologyEx(image,cv2.MORPH_OPEN,kernel)\n",
    "\n",
    "def canny(image): # 이미지 엣지 리턴\n",
    "    return cv2.Canny(image,100,200) # 숫자 작게할수록 자세히\n",
    "\n",
    "def deskew(image): # 숫자 이미지를 읽어 기울어진 이미지 보정\n",
    "    gray = cv2.cvtColor(image, cv2.COLOR_BGR2GRAY)\n",
    "    gray = cv2.bitwise_not(gray)\n",
    "    thresh = cv2.threshold(gray, 0, 255,\n",
    "        cv2.THRESH_BINARY | cv2.THRESH_OTSU)[1]\n",
    "    coords = np.column_stack(np.where(thresh > 0))\n",
    "    angle = cv2.minAreaRect(coords)[-1]\n",
    "    if angle < -45:\n",
    "        angle = -(90 + angle)\n",
    "    else:\n",
    "        angle = -angle\n",
    "    (h, w) = image.shape[:2]\n",
    "    center = (w // 2, h // 2)\n",
    "    M = cv2.getRotationMatrix2D(center, angle, 1.0)\n",
    "    rotated = cv2.warpAffine(image, M, (w, h),\n",
    "        flags=cv2.INTER_CUBIC, borderMode=cv2.BORDER_REPLICATE)    \n",
    "    return rotated\n",
    "\n",
    "# def match_template(image, template): # 이미지에서 템플릿과 일치하는 부분 찾음\n",
    "#     return cv2.matchTemplate(image,template, cv2.TM_CCOEFF_NORMED)\n",
    "\n",
    "def filter2D(image): # 이미지 선명하게\n",
    "    kernel = np.array([[0, -1, 0],\n",
    "                       [-1, 5, -1],\n",
    "                       [0, -1, 0]])\n",
    "    return cv2.filter2D(image, 0, kernel)\n",
    "\n",
    "deskew = deskew(img)\n",
    "gray = gray_scale(deskew)\n",
    "\n",
    "print(img.shape)"
   ]
  },
  {
   "cell_type": "markdown",
   "id": "354fae8b",
   "metadata": {},
   "source": [
    "# 이미지 속 텍스트 인식 구현"
   ]
  },
  {
   "cell_type": "code",
   "execution_count": 3,
   "id": "5bf67cbc",
   "metadata": {
    "scrolled": true
   },
   "outputs": [
    {
     "name": "stdout",
     "output_type": "stream",
     "text": [
      "-----개별관리비-----\n",
      "공용소계         91,590     91,910     -320\n",
      "\n",
      "전기 331 kw        41,280    40,610    670\n",
      "Weae           2,500      2,500\n",
      "케이블 TV          4,400      4,400\n",
      "주차비\n",
      "수도 23 03           25,740      23,050    2,690\n",
      "일자리청소차         -140      -140        {\n",
      "일자리경비차         -200      -340 140\n",
      "관리비 과남\n",
      "\n",
      "AWA        73,580 70,080 3,500\n",
      "\n",
      "\n",
      "-----날짜정보-----\n",
      "2022년 02일분\n",
      "\n",
      "112동 306호\n",
      "기2코드 4060-161\n",
      "[BRAS — 0112-0306-8\n",
      "월분 2022-02\n",
      "\n",
      "데카드 자동이체 *\n",
      "삼각\n",
      "\n",
      "-----총금액-----\n",
      ": 남입수증 Ea)\n",
      "\n",
      "165,170\n",
      "\n",
      "그린타운 판리사무소 귀중\n",
      "\n"
     ]
    }
   ],
   "source": [
    "### 이미지 내 관심영역 추출과 텍스트 추출\n",
    "\n",
    "# x,y 반대로\n",
    "x_indivi=770; y_indivi=20; w_indivi=450; h_indivi=340    # roi 좌표(개별관리비)\n",
    "x_date=480; y_date=450; w_date=220; h_date=270     # roi 좌표(날짜 정보)\n",
    "x_price=480; y_price=670; w_price=230; h_price=270     # roi 좌표(이번 달 총금액)\n",
    "\n",
    "\n",
    "roi1 = gray[x_indivi:x_indivi+h_indivi , y_indivi:y_indivi+w_indivi]  # roi 지정\n",
    "roi2 = gray[x_date:x_date+h_date , y_date:y_date+w_date]  # roi 지정\n",
    "roi3 = gray[x_price:x_price+h_price, y_price:y_price+w_price]  # roi 지정\n",
    "\n",
    "cv2.rectangle(roi1, (0,0), (w_indivi-1, h_indivi-1), (0,0,255) ,2) # roi 전체에 사각형 그리기\n",
    "cv2.rectangle(roi2, (0,0), (w_date-1, h_date-1), (0,0,255) ,2) # roi 전체에 사각형 그리기\n",
    "cv2.rectangle(roi3, (0,0), (w_price-1, h_price-1), (0,0,255) ,2) # roi 전체에 사각형 그리기\n",
    "\n",
    "text_indivi=pytesseract.image_to_string(roi1,config=config)\n",
    "text_date=pytesseract.image_to_string(roi2,config=config)\n",
    "text_price=pytesseract.image_to_string(roi3,config=config)\n",
    "\n",
    "\n",
    "## 확인용\n",
    "\n",
    "print(\"-----개별관리비-----\")\n",
    "print(text_indivi)\n",
    "print(\"-----날짜정보-----\")\n",
    "print(text_date)\n",
    "print(\"-----총금액-----\")\n",
    "print(text_price)\n",
    "\n",
    "# cv2.imshow(\"image\", gray)\n",
    "# key = cv2.waitKey(0)\n",
    "# print(key)\n",
    "# cv2.destroyAllWindows()"
   ]
  },
  {
   "cell_type": "markdown",
   "id": "b44c91f0",
   "metadata": {},
   "source": [
    "# 인식된 텍스트 정리"
   ]
  },
  {
   "cell_type": "code",
   "execution_count": 11,
   "id": "65b58f4a",
   "metadata": {},
   "outputs": [
    {
     "name": "stdout",
     "output_type": "stream",
     "text": [
      "날짜 정보(yyyymm):  202202 \n",
      "\n",
      "이번 달 전기 사용량: 331 kw\n",
      "이번 달 전기 요금: 41,280 원 \n",
      "\n",
      "이번 달 수도 사용량: 23 m3\n",
      "이번 달 수도 요금: 25,740 원 \n",
      "\n",
      "이번 달 총 요금: 165,170 원\n"
     ]
    }
   ],
   "source": [
    "### 날짜 정보\n",
    "start_date=text_date.find('월분')+2\n",
    "date_l=text_date[start_date:start_date+10].strip().split(\"-\")\n",
    "date_this=date_l[0]+date_l[1]\n",
    "### 전기\n",
    "start_use_e = text_indivi.find('전기')+2\n",
    "elec_use = text_indivi[start_use_e:start_use_e+4].strip()\n",
    "start_price_e = text_indivi.find('kw')+2\n",
    "elec_price = text_indivi[start_price_e:start_price_e+18].strip()\n",
    "### 수도\n",
    "start_use_w = text_indivi.find('수도')+2\n",
    "wat_use = text_indivi[start_use_w:start_use_w+3].strip()\n",
    "start_price_w = text_indivi.find('수도')+15\n",
    "wat_price = text_indivi[start_price_w:start_price_w+15].strip()\n",
    "### 총금액 --> !!위치로 따온거라 수정해야 할수도 있음!!\n",
    "splits=text_price.splitlines()\n",
    "price_this=splits[2]\n",
    "\n",
    "print(\"날짜 정보(yyyymm): \", date_this,'\\n')\n",
    "print(\"이번 달 전기 사용량:\",elec_use,\"kw\")\n",
    "print(\"이번 달 전기 요금:\",elec_price,\"원\",'\\n')\n",
    "print(\"이번 달 수도 사용량:\",wat_use,\"m3\")\n",
    "print(\"이번 달 수도 요금:\",wat_price,\"원\",'\\n')\n",
    "print(\"이번 달 총 요금:\", price_this,\"원\")"
   ]
  },
  {
   "cell_type": "markdown",
   "id": "ce66ff0f",
   "metadata": {},
   "source": [
    "# 사용자 데이터를 이용한 에너지 소비량 예측 구현"
   ]
  },
  {
   "cell_type": "code",
   "execution_count": 17,
   "id": "79178ce7",
   "metadata": {},
   "outputs": [
    {
     "name": "stdout",
     "output_type": "stream",
     "text": [
      "예측 전기 소비량 [328.71410555]\n",
      "예측 수도 소비량 [30.29263457]\n",
      "rbf 결정계수 R:  0.7834005507267277\n",
      "rbf 결정계수 R:  0.687947201631383\n"
     ]
    },
    {
     "data": {
      "image/png": "[encoded data removed]",
      "text/plain": [
       "<Figure size 432x288 with 1 Axes>"
      ]
     },
     "metadata": {
      "needs_background": "light"
     },
     "output_type": "display_data"
    },
    {
     "data": {
      "image/png": "[encoded data removed]",
      "text/plain": [
       "<Figure size 432x288 with 1 Axes>"
      ]
     },
     "metadata": {
      "needs_background": "light"
     },
     "output_type": "display_data"
    }
   ],
   "source": [
    "### 다음 달 금액 예측하기 (테스트용 데이터)\n",
    "\n",
    "from sklearn.svm import SVR\n",
    "import pandas as pd\n",
    "from pandas_datareader import data as pdr\n",
    "\n",
    "# 고지서에서 읽은 사용자의 사용량 데이터라고 가정\n",
    "test_data_elec=[331,309,299,312,327,315,316,306,317,322,330,320,328]\n",
    "test_data_wat=[23,21,24,25,28,23,20,22,23,22,23,21,24]\n",
    "\n",
    "months=[]\n",
    "\n",
    "j=1\n",
    "\n",
    "for j in range(len(test_data_elec)):\n",
    "    months.append([int(j+1)])\n",
    "    j=j+1\n",
    "    \n",
    "# linear svr, polynomial svr, rbf svr 적용 \n",
    "\n",
    "# # 선형회귀; \n",
    "# lin_svr = SVR(kernel='linear', C=1000)\n",
    "# lin_svr.fit(months,test_data_elec)\n",
    "# # 다항회귀; 비선형 데이터를 학습하기 위해 선형모델 사용, 각 변수의 거듭 제곱을 새로운 변수로 추가하고 확장된 변수를 포함한 데이터셋에 선형모델을 훈련시킴\n",
    "# poly_svr = SVR(kernel='poly', C=1000, degree=2)\n",
    "# poly_svr.fit(months,test_data_elec)\n",
    "\n",
    "# RBF 회귀; gamma 파라미터는 C파라미터와 비슷, gamma값이 크면 training 데이터에 더 많은 중요도 부여해 overfitting될 수 있고 값이 작으면 underfitting될 수 있음.\n",
    "rbf_svr_e1 = SVR(kernel='rbf', C=1000, gamma=0.05)\n",
    "rbf_svr_w1 = SVR(kernel='rbf', C=1000, gamma=0.05)\n",
    "\n",
    "rbf_svr_e1.fit(months,test_data_elec)\n",
    "rbf_svr_w1.fit(months,test_data_wat)\n",
    "\n",
    "\n",
    "### 다음 달 전기 사용량 예측\n",
    "# SVR: regression에 사용되는 SVM모델\n",
    "\n",
    "nextMonth = [[len(months)+1]]\n",
    "\n",
    "print('예측 전기 소비량', rbf_svr_e1.predict(nextMonth))\n",
    "print('예측 수도 소비량', rbf_svr_w1.predict(nextMonth))\n",
    "\n",
    "print(\"rbf 결정계수 R: \", rbf_svr_e1.score(months, test_data_elec))\n",
    "print(\"rbf 결정계수 R: \", rbf_svr_w1.score(months, test_data_wat))\n",
    "\n",
    "\n",
    "### SVR 세가지 회귀모델 학습 시각화\n",
    "plt.plot(months, test_data_elec,label='Actual elec')\n",
    "plt.plot(months, rbf_svr_e1.predict(months),label='electric')\n",
    "plt.legend()\n",
    "plt.show()\n",
    "\n",
    "plt.plot(months, test_data_wat,label='Actual water')\n",
    "plt.plot(months, rbf_svr_w1.predict(months),label='water')\n",
    "plt.legend()\n",
    "plt.show()\n",
    "\n"
   ]
  },
  {
   "cell_type": "code",
   "execution_count": null,
   "id": "a82ffe3c",
   "metadata": {},
   "outputs": [],
   "source": []
  },
  {
   "cell_type": "code",
   "execution_count": null,
   "id": "6347c918",
   "metadata": {},
   "outputs": [],
   "source": []
  },
  {
   "cell_type": "code",
   "execution_count": null,
   "id": "e4e6cd82",
   "metadata": {},
   "outputs": [],
   "source": []
  },
  {
   "cell_type": "code",
   "execution_count": null,
   "id": "fa4447da",
   "metadata": {},
   "outputs": [],
   "source": []
  }
 ],
 "metadata": {
  "kernelspec": {
   "display_name": "Python 3 (ipykernel)",
   "language": "python",
   "name": "python3"
  },
  "language_info": {
   "codemirror_mode": {
    "name": "ipython",
    "version": 3
   },
   "file_extension": ".py",
   "mimetype": "text/x-python",
   "name": "python",
   "nbconvert_exporter": "python",
   "pygments_lexer": "ipython3",
   "version": "3.8.12"
  }
 },
 "nbformat": 4,
 "nbformat_minor": 5
}
